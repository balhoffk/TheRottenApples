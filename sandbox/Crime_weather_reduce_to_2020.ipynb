{
 "cells": [
  {
   "cell_type": "code",
   "execution_count": 1,
   "metadata": {},
   "outputs": [],
   "source": [
    "import pandas as pd"
   ]
  },
  {
   "cell_type": "code",
   "execution_count": 2,
   "metadata": {},
   "outputs": [
    {
     "data": {
      "text/html": [
       "<div>\n",
       "<style scoped>\n",
       "    .dataframe tbody tr th:only-of-type {\n",
       "        vertical-align: middle;\n",
       "    }\n",
       "\n",
       "    .dataframe tbody tr th {\n",
       "        vertical-align: top;\n",
       "    }\n",
       "\n",
       "    .dataframe thead th {\n",
       "        text-align: right;\n",
       "    }\n",
       "</style>\n",
       "<table border=\"1\" class=\"dataframe\">\n",
       "  <thead>\n",
       "    <tr style=\"text-align: right;\">\n",
       "      <th></th>\n",
       "      <th>Unnamed: 0</th>\n",
       "      <th>index</th>\n",
       "      <th>crime_type</th>\n",
       "      <th>date</th>\n",
       "      <th>Beat</th>\n",
       "      <th>Neigborhood</th>\n",
       "      <th>NPU</th>\n",
       "      <th>lat</th>\n",
       "      <th>lon</th>\n",
       "      <th>type_crime</th>\n",
       "      <th>year</th>\n",
       "      <th>temperature</th>\n",
       "      <th>percentage_rain</th>\n",
       "      <th>rain_indicator</th>\n",
       "    </tr>\n",
       "  </thead>\n",
       "  <tbody>\n",
       "    <tr>\n",
       "      <td>0</td>\n",
       "      <td>0</td>\n",
       "      <td>0</td>\n",
       "      <td>LARCENY-NON VEHICLE</td>\n",
       "      <td>2009-02-28</td>\n",
       "      <td>301.0</td>\n",
       "      <td>Adair Park</td>\n",
       "      <td>V</td>\n",
       "      <td>33.7271</td>\n",
       "      <td>-84.4136</td>\n",
       "      <td>LARCENY</td>\n",
       "      <td>2009</td>\n",
       "      <td>55.47125</td>\n",
       "      <td>0.916667</td>\n",
       "      <td>1</td>\n",
       "    </tr>\n",
       "  </tbody>\n",
       "</table>\n",
       "</div>"
      ],
      "text/plain": [
       "   Unnamed: 0  index           crime_type        date   Beat Neigborhood NPU  \\\n",
       "0           0      0  LARCENY-NON VEHICLE  2009-02-28  301.0  Adair Park   V   \n",
       "\n",
       "       lat      lon type_crime  year  temperature  percentage_rain  \\\n",
       "0  33.7271 -84.4136    LARCENY  2009     55.47125         0.916667   \n",
       "\n",
       "   rain_indicator  \n",
       "0               1  "
      ]
     },
     "execution_count": 2,
     "metadata": {},
     "output_type": "execute_result"
    }
   ],
   "source": [
    "file_one = \"../raw_data/crime_weather.csv\"\n",
    "file_one_df = pd.read_csv(file_one, encoding=\"ISO-8859-1\")\n",
    "file_one_df.head(1)"
   ]
  },
  {
   "cell_type": "code",
   "execution_count": 3,
   "metadata": {},
   "outputs": [
    {
     "data": {
      "text/html": [
       "<div>\n",
       "<style scoped>\n",
       "    .dataframe tbody tr th:only-of-type {\n",
       "        vertical-align: middle;\n",
       "    }\n",
       "\n",
       "    .dataframe tbody tr th {\n",
       "        vertical-align: top;\n",
       "    }\n",
       "\n",
       "    .dataframe thead th {\n",
       "        text-align: right;\n",
       "    }\n",
       "</style>\n",
       "<table border=\"1\" class=\"dataframe\">\n",
       "  <thead>\n",
       "    <tr style=\"text-align: right;\">\n",
       "      <th></th>\n",
       "      <th>Unnamed: 0</th>\n",
       "      <th>index</th>\n",
       "      <th>crime_type</th>\n",
       "      <th>date</th>\n",
       "      <th>Beat</th>\n",
       "      <th>Neigborhood</th>\n",
       "      <th>NPU</th>\n",
       "      <th>lat</th>\n",
       "      <th>lon</th>\n",
       "      <th>type_crime</th>\n",
       "      <th>year</th>\n",
       "      <th>temperature</th>\n",
       "      <th>percentage_rain</th>\n",
       "      <th>rain_indicator</th>\n",
       "    </tr>\n",
       "  </thead>\n",
       "  <tbody>\n",
       "    <tr>\n",
       "      <td>83580</td>\n",
       "      <td>83580</td>\n",
       "      <td>83580</td>\n",
       "      <td>LARCENY-FROM VEHICLE</td>\n",
       "      <td>2020-01-31</td>\n",
       "      <td>602.0</td>\n",
       "      <td>Inman Park</td>\n",
       "      <td>N</td>\n",
       "      <td>33.76163</td>\n",
       "      <td>-84.35038</td>\n",
       "      <td>LARCENY</td>\n",
       "      <td>2020</td>\n",
       "      <td>41.913333</td>\n",
       "      <td>0.208333</td>\n",
       "      <td>1</td>\n",
       "    </tr>\n",
       "  </tbody>\n",
       "</table>\n",
       "</div>"
      ],
      "text/plain": [
       "       Unnamed: 0  index            crime_type        date   Beat Neigborhood  \\\n",
       "83580       83580  83580  LARCENY-FROM VEHICLE  2020-01-31  602.0  Inman Park   \n",
       "\n",
       "      NPU       lat       lon type_crime  year  temperature  percentage_rain  \\\n",
       "83580   N  33.76163 -84.35038    LARCENY  2020    41.913333         0.208333   \n",
       "\n",
       "       rain_indicator  \n",
       "83580               1  "
      ]
     },
     "execution_count": 3,
     "metadata": {},
     "output_type": "execute_result"
    }
   ],
   "source": [
    "df_2020 = file_one_df.loc[(file_one_df[\"date\"].str.startswith('2020-'))]\n",
    "df_2020.head(1)"
   ]
  },
  {
   "cell_type": "code",
   "execution_count": 5,
   "metadata": {},
   "outputs": [],
   "source": [
    "df_2020.to_csv(\"../raw_data/crime_weather_2020.csv\", index=False, header=True)"
   ]
  },
  {
   "cell_type": "code",
   "execution_count": null,
   "metadata": {},
   "outputs": [],
   "source": []
  }
 ],
 "metadata": {
  "kernelspec": {
   "display_name": "Python 3",
   "language": "python",
   "name": "python3"
  },
  "language_info": {
   "codemirror_mode": {
    "name": "ipython",
    "version": 3
   },
   "file_extension": ".py",
   "mimetype": "text/x-python",
   "name": "python",
   "nbconvert_exporter": "python",
   "pygments_lexer": "ipython3",
   "version": "3.7.4"
  }
 },
 "nbformat": 4,
 "nbformat_minor": 2
}
