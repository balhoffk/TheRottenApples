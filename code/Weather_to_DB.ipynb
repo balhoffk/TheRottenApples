{
 "cells": [
  {
   "cell_type": "code",
   "execution_count": null,
   "metadata": {},
   "outputs": [],
   "source": [
    "# Store filepath in a variable\n",
    "file_one = \"Resources/DataOne.csv\""
   ]
  },
  {
   "cell_type": "code",
   "execution_count": null,
   "metadata": {},
   "outputs": [],
   "source": [
    "# Read our Data file with the pandas library\n",
    "# Not every CSV requires an encoding, but be aware this can come up\n",
    "file_one_df = pd.read_csv(file_one, encoding=\"ISO-8859-1\")"
   ]
  },
  {
   "cell_type": "code",
   "execution_count": null,
   "metadata": {},
   "outputs": [],
   "source": [
    "# Show just the header\n",
    "file_one_df.head()"
   ]
  },
  {
   "cell_type": "code",
   "execution_count": null,
   "metadata": {},
   "outputs": [],
   "source": []
  },
  {
   "cell_type": "code",
   "execution_count": null,
   "metadata": {},
   "outputs": [],
   "source": [
    "# Dependencies\n",
    "import os\n",
    "import json\n",
    "import pandas as pd\n",
    "import pymongo\n",
    "from pymongo import MongoClient"
   ]
  },
  {
   "cell_type": "code",
   "execution_count": null,
   "metadata": {},
   "outputs": [],
   "source": [
    "with open('../raw_data/atl_weather.json') as f:\n",
    "  data = json.load(f)"
   ]
  },
  {
   "cell_type": "code",
   "execution_count": null,
   "metadata": {},
   "outputs": [],
   "source": [
    "clean_dict_list = []\n",
    "for x in range(len(data)):\n",
    "    date_iso = data[x][\"dt_iso\"]\n",
    "    weather_id = data[x][\"weather\"][0][\"id\"]\n",
    "    weather_group = data[x][\"weather\"][0][\"main\"]\n",
    "    weather = data[x][\"weather\"][0][\"description\"]\n",
    "    weather_icon = data[x][\"weather\"][0][\"icon\"]\n",
    "    temperature = data[x][\"main\"][\"temp\"]\n",
    "    temp_min = data[x][\"main\"][\"temp_min\"]\n",
    "    temp_max = data[x][\"main\"][\"temp_max\"]\n",
    "    feels_like = data[x][\"main\"][\"feels_like\"]\n",
    "    pressure = data[x][\"main\"][\"pressure\"]\n",
    "    humidity = data[x][\"main\"][\"humidity\"]\n",
    "    wind_speed = data[x][\"wind\"][\"speed\"]\n",
    "    cloud_percentage = data[x][\"clouds\"][\"all\"]\n",
    "    \n",
    "    weather_dict = {\n",
    "        \"date_iso\": date_iso,\n",
    "        \"weather_id\": weather_id,\n",
    "        \"weather_group\": weather_group,\n",
    "        \"weather\": weather,\n",
    "        \"weather_icon\": weather_icon,\n",
    "        \"temperature\": temperature,\n",
    "        \"temp_min\": temp_min,\n",
    "        \"temp_max\": temp_max,\n",
    "        \"feels_like\": feels_like,\n",
    "        \"pressure\": pressure,\n",
    "        \"humidity\": humidity,\n",
    "        \"wind_speed\": wind_speed,\n",
    "        \"cloud_percentage\": cloud_percentage\n",
    "    }\n",
    "    \n",
    "    clean_dict_list.append(weather_dict)"
   ]
  },
  {
   "cell_type": "code",
   "execution_count": null,
   "metadata": {},
   "outputs": [],
   "source": [
    "conn = 'mongodb://localhost:27017'\n",
    "client = pymongo.MongoClient(conn)\n",
    "\n",
    "# Declare the database\n",
    "db = client.the_rotten_tomatoes\n",
    "\n",
    "# Declare the collection\n",
    "collection = db.weather"
   ]
  },
  {
   "cell_type": "code",
   "execution_count": null,
   "metadata": {},
   "outputs": [],
   "source": [
    "for weather_object in clean_dict_list:\n",
    "    collection.insert_one(weather_object)"
   ]
  }
 ],
 "metadata": {
  "kernelspec": {
   "display_name": "Python 3",
   "language": "python",
   "name": "python3"
  },
  "language_info": {
   "codemirror_mode": {
    "name": "ipython",
    "version": 3
   },
   "file_extension": ".py",
   "mimetype": "text/x-python",
   "name": "python",
   "nbconvert_exporter": "python",
   "pygments_lexer": "ipython3",
   "version": "3.7.4"
  }
 },
 "nbformat": 4,
 "nbformat_minor": 2
}
