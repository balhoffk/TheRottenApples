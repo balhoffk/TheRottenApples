{
 "cells": [
  {
   "cell_type": "code",
   "execution_count": 1,
   "metadata": {},
   "outputs": [],
   "source": [
    "import pandas as pd\n",
    "import glob\n",
    "from sqlalchemy import create_engine\n",
    "# from config import postgres_password\n",
    "# from config import postgres_port"
   ]
  },
  {
   "cell_type": "code",
   "execution_count": 2,
   "metadata": {},
   "outputs": [],
   "source": [
    "path = r'C:\\Users\\adfil\\downloads'\n",
    "all_files = glob.glob(path + \"/*.csv\")\n",
    "\n",
    "li = []\n",
    "\n",
    "for filename in all_files:\n",
    "    df = pd.read_csv(filename, index_col=None, header=0)\n",
    "    li.append(df)\n",
    "\n",
    "frame = pd.concat(li, axis=0, ignore_index=True)"
   ]
  },
  {
   "cell_type": "code",
   "execution_count": 3,
   "metadata": {},
   "outputs": [
    {
     "data": {
      "text/html": [
       "<div>\n",
       "<style scoped>\n",
       "    .dataframe tbody tr th:only-of-type {\n",
       "        vertical-align: middle;\n",
       "    }\n",
       "\n",
       "    .dataframe tbody tr th {\n",
       "        vertical-align: top;\n",
       "    }\n",
       "\n",
       "    .dataframe thead th {\n",
       "        text-align: right;\n",
       "    }\n",
       "</style>\n",
       "<table border=\"1\" class=\"dataframe\">\n",
       "  <thead>\n",
       "    <tr style=\"text-align: right;\">\n",
       "      <th></th>\n",
       "      <th>crime_type</th>\n",
       "      <th>report_date</th>\n",
       "      <th>Beat</th>\n",
       "      <th>Neigborhood</th>\n",
       "      <th>NPU</th>\n",
       "      <th>lat</th>\n",
       "      <th>lon</th>\n",
       "    </tr>\n",
       "    <tr>\n",
       "      <th>index</th>\n",
       "      <th></th>\n",
       "      <th></th>\n",
       "      <th></th>\n",
       "      <th></th>\n",
       "      <th></th>\n",
       "      <th></th>\n",
       "      <th></th>\n",
       "    </tr>\n",
       "  </thead>\n",
       "  <tbody>\n",
       "    <tr>\n",
       "      <td>0</td>\n",
       "      <td>LARCENY-NON VEHICLE</td>\n",
       "      <td>02/28/2009</td>\n",
       "      <td>301.0</td>\n",
       "      <td>Adair Park</td>\n",
       "      <td>V</td>\n",
       "      <td>33.72710</td>\n",
       "      <td>-84.41360</td>\n",
       "    </tr>\n",
       "    <tr>\n",
       "      <td>1</td>\n",
       "      <td>LARCENY-NON VEHICLE</td>\n",
       "      <td>02/28/2009</td>\n",
       "      <td>509.0</td>\n",
       "      <td>Downtown</td>\n",
       "      <td>M</td>\n",
       "      <td>33.76158</td>\n",
       "      <td>-84.38496</td>\n",
       "    </tr>\n",
       "    <tr>\n",
       "      <td>2</td>\n",
       "      <td>LARCENY-NON VEHICLE</td>\n",
       "      <td>02/28/2009</td>\n",
       "      <td>210.0</td>\n",
       "      <td>Lenox</td>\n",
       "      <td>B</td>\n",
       "      <td>33.84676</td>\n",
       "      <td>-84.36212</td>\n",
       "    </tr>\n",
       "    <tr>\n",
       "      <td>3</td>\n",
       "      <td>LARCENY-NON VEHICLE</td>\n",
       "      <td>02/28/2009</td>\n",
       "      <td>204.0</td>\n",
       "      <td>Berkeley Park</td>\n",
       "      <td>D</td>\n",
       "      <td>33.80448</td>\n",
       "      <td>-84.41348</td>\n",
       "    </tr>\n",
       "    <tr>\n",
       "      <td>4</td>\n",
       "      <td>LARCENY-NON VEHICLE</td>\n",
       "      <td>02/28/2009</td>\n",
       "      <td>609.0</td>\n",
       "      <td>Edgewood</td>\n",
       "      <td>O</td>\n",
       "      <td>33.75674</td>\n",
       "      <td>-84.34619</td>\n",
       "    </tr>\n",
       "  </tbody>\n",
       "</table>\n",
       "</div>"
      ],
      "text/plain": [
       "                crime_type report_date   Beat    Neigborhood NPU       lat  \\\n",
       "index                                                                        \n",
       "0      LARCENY-NON VEHICLE  02/28/2009  301.0     Adair Park   V  33.72710   \n",
       "1      LARCENY-NON VEHICLE  02/28/2009  509.0       Downtown   M  33.76158   \n",
       "2      LARCENY-NON VEHICLE  02/28/2009  210.0          Lenox   B  33.84676   \n",
       "3      LARCENY-NON VEHICLE  02/28/2009  204.0  Berkeley Park   D  33.80448   \n",
       "4      LARCENY-NON VEHICLE  02/28/2009  609.0       Edgewood   O  33.75674   \n",
       "\n",
       "            lon  \n",
       "index            \n",
       "0     -84.41360  \n",
       "1     -84.38496  \n",
       "2     -84.36212  \n",
       "3     -84.41348  \n",
       "4     -84.34619  "
      ]
     },
     "execution_count": 3,
     "metadata": {},
     "output_type": "execute_result"
    }
   ],
   "source": [
    "frame1 = frame.drop(columns = ['Report Number','Location']).rename(columns =\n",
    "                    {'UC2_Literal':'crime_type',\n",
    "                     'Report Number':'report_number',\n",
    "                     'Report Date':'report_date',\n",
    "                     'Lat':'lat',\n",
    "                     'Long':'lon'})\n",
    "\n",
    "\n",
    "frame2 = frame1.iloc[:,:-1].reset_index().set_index('index')\n",
    "frame2.head()"
   ]
  },
  {
   "cell_type": "code",
   "execution_count": 4,
   "metadata": {},
   "outputs": [],
   "source": [
    "frame2.to_csv('../../raw_data/all_crime.csv')"
   ]
  },
  {
   "cell_type": "code",
   "execution_count": 5,
   "metadata": {},
   "outputs": [],
   "source": [
    "#creating unique list of lat/lon to use for weather pull\n",
    "#265847 rows in frame2\n",
    "#69610 rows in lat_lon with only unique combinations\n",
    "lat_lon = frame2[['lat','lon']].drop_duplicates()\n",
    "\n",
    "#exporting to csv\n",
    "lat_lon.to_csv('../../raw_data/unique_lat_lon.csv')\n"
   ]
  },
  {
   "cell_type": "code",
   "execution_count": 30,
   "metadata": {},
   "outputs": [
    {
     "ename": "NameError",
     "evalue": "name 'postgres_password' is not defined",
     "output_type": "error",
     "traceback": [
      "\u001b[1;31m---------------------------------------------------------------------------\u001b[0m",
      "\u001b[1;31mNameError\u001b[0m                                 Traceback (most recent call last)",
      "\u001b[1;32m<ipython-input-30-c573a429d9b4>\u001b[0m in \u001b[0;36m<module>\u001b[1;34m\u001b[0m\n\u001b[1;32m----> 1\u001b[1;33m \u001b[0mrds_connection_string\u001b[0m \u001b[1;33m=\u001b[0m \u001b[1;34mf\"postgres:{postgres_password}@localhost:{postgres_port}/crime_data\"\u001b[0m\u001b[1;33m\u001b[0m\u001b[1;33m\u001b[0m\u001b[0m\n\u001b[0m\u001b[0;32m      2\u001b[0m \u001b[0mengine\u001b[0m \u001b[1;33m=\u001b[0m \u001b[0mcreate_engine\u001b[0m\u001b[1;33m(\u001b[0m\u001b[1;34mf'postgresql://{rds_connection_string}'\u001b[0m\u001b[1;33m)\u001b[0m\u001b[1;33m\u001b[0m\u001b[1;33m\u001b[0m\u001b[0m\n",
      "\u001b[1;31mNameError\u001b[0m: name 'postgres_password' is not defined"
     ]
    }
   ],
   "source": [
    "rds_connection_string = f\"postgres:{postgres_password}@localhost:{postgres_port}/crime_data\"\n",
    "engine = create_engine(f'postgresql://{rds_connection_string}')"
   ]
  }
 ],
 "metadata": {
  "kernelspec": {
   "display_name": "Python 3",
   "language": "python",
   "name": "python3"
  },
  "language_info": {
   "codemirror_mode": {
    "name": "ipython",
    "version": 3
   },
   "file_extension": ".py",
   "mimetype": "text/x-python",
   "name": "python",
   "nbconvert_exporter": "python",
   "pygments_lexer": "ipython3",
   "version": "3.7.4"
  }
 },
 "nbformat": 4,
 "nbformat_minor": 2
}
