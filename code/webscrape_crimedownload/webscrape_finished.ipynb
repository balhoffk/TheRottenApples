{
 "cells": [
  {
   "cell_type": "code",
   "execution_count": 1,
   "metadata": {},
   "outputs": [],
   "source": [
    "from splinter import Browser\n",
    "import pandas as pd"
   ]
  },
  {
   "cell_type": "code",
   "execution_count": 11,
   "metadata": {},
   "outputs": [],
   "source": [
    "#creating lists of months and years to iterate through\n",
    "#month 1 means January, month 2 means February, etc.\n",
    "\n",
    "months = ['1','2','3','4','5','6','7','8','9','10','11','12']\n",
    "years = ['2009','2010','2011','2012','2013','2014','2015','2016']"
   ]
  },
  {
   "cell_type": "code",
   "execution_count": 15,
   "metadata": {},
   "outputs": [],
   "source": [
    "#using firefox instead of Chrome, make sure you have geckodriver installed\n",
    "#in folder with webscrape script, not webdriver\n",
    "#webscrape did not work with chrome, kept erroring out\n",
    "#the files will begin to download immediately, to reduce the years, reduce\n",
    "#the number of years in list years above, select 'save as' and 'do for all'\n",
    "#with window prompt in firefox\n",
    "\n",
    "#opening browser in firefox\n",
    "browser = Browser('firefox')\n",
    "\n",
    "#telling browser to go to URL with crime data\n",
    "url = 'http://opendata.atlantapd.org/Crimedata/Default.aspx'\n",
    "browser.visit(url)\n",
    "\n",
    "#telling browser to click on area search\n",
    "#telling browser to click on btn search, clicking btn search \n",
    "#populates the dowload button\n",
    "\n",
    "browser.click_link_by_id('MainContent_rblArea_0')\n",
    "browser.click_link_by_id('MainContent_btnSearch')\n",
    "\n",
    "#first looping through all years 2009-2020\n",
    "for each_year in years:\n",
    "    \n",
    "    #telling browser to select the year dropdown going through each year\n",
    "    browser.select('ctl00$MainContent$ddlYear',each_year)\n",
    "    \n",
    "    #telling browser to select the month dropdown going through each month\n",
    "    for each_month in months:\n",
    "        browser.select('ctl00$MainContent$ddlMonth',each_month)\n",
    "        \n",
    "        #telling browser to download data before starting next year\n",
    "        browser.click_link_by_id('MainContent_btnDownload')"
   ]
  },
  {
   "cell_type": "code",
   "execution_count": 6,
   "metadata": {},
   "outputs": [],
   "source": [
    "#to get most recent month\n",
    "\n",
    "month = str(pd.datetime.now().month)\n",
    "year = str(pd.datetime.now().year)"
   ]
  },
  {
   "cell_type": "code",
   "execution_count": 7,
   "metadata": {},
   "outputs": [],
   "source": [
    "#opening browser in firefox\n",
    "browser = Browser('firefox')\n",
    "\n",
    "#telling browser to go to URL with crime data\n",
    "url = 'http://opendata.atlantapd.org/Crimedata/Default.aspx'\n",
    "browser.visit(url)\n",
    "\n",
    "#telling browser to click on area search\n",
    "#telling browser to click on btn search, clicking btn search \n",
    "#populates the dowload button\n",
    "\n",
    "browser.click_link_by_id('MainContent_rblArea_0')\n",
    "browser.click_link_by_id('MainContent_btnSearch')\n",
    "\n",
    "    \n",
    "#telling browser to select the year dropdown going through each year\n",
    "browser.select('ctl00$MainContent$ddlYear',year)\n",
    "\n",
    "#telling browser to select the month dropdown going through each month\n",
    "browser.select('ctl00$MainContent$ddlMonth',month)\n",
    "\n",
    "#telling browser to download data before starting next year\n",
    "browser.click_link_by_id('MainContent_btnDownload')"
   ]
  }
 ],
 "metadata": {
  "kernelspec": {
   "display_name": "Python 3",
   "language": "python",
   "name": "python3"
  },
  "language_info": {
   "codemirror_mode": {
    "name": "ipython",
    "version": 3
   },
   "file_extension": ".py",
   "mimetype": "text/x-python",
   "name": "python",
   "nbconvert_exporter": "python",
   "pygments_lexer": "ipython3",
   "version": "3.7.4"
  }
 },
 "nbformat": 4,
 "nbformat_minor": 2
}
