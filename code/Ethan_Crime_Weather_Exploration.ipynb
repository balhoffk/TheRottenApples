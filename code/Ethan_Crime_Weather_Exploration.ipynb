{
 "cells": [
  {
   "cell_type": "code",
   "execution_count": 1,
   "metadata": {},
   "outputs": [],
   "source": [
    "import sys\n",
    "sys.path.append(\"..\")\n",
    "from config import aws_key, aws_secret\n",
    "from config import mongo_username, mongo_password, mongo_server_name\n",
    "from config import postgres_server_name, postgres_database, postgres_username, postgres_port, postgres_password"
   ]
  },
  {
   "cell_type": "code",
   "execution_count": 2,
   "metadata": {},
   "outputs": [],
   "source": [
    "from sqlalchemy import create_engine\n",
    "from sqlalchemy.ext.declarative import declarative_base\n",
    "from sqlalchemy import Column, Integer, String, Float\n",
    "from sqlalchemy.orm import Session"
   ]
  },
  {
   "cell_type": "code",
   "execution_count": 3,
   "metadata": {},
   "outputs": [],
   "source": [
    "import pandas as pd"
   ]
  },
  {
   "cell_type": "code",
   "execution_count": 4,
   "metadata": {},
   "outputs": [],
   "source": [
    "db_url = f\"postgres://{postgres_username}:{postgres_password}@{postgres_server_name}:{postgres_port}/{postgres_database}\"\n",
    "engine = create_engine(db_url)\n",
    "conn = engine.connect()\n",
    "session = Session(bind=engine)"
   ]
  },
  {
   "cell_type": "markdown",
   "metadata": {},
   "source": [
    "# Crime"
   ]
  },
  {
   "cell_type": "code",
   "execution_count": 8,
   "metadata": {},
   "outputs": [],
   "source": [
    "query = session.query(' * from all_crime')\n",
    "crime_df = pd.read_sql(query.statement, engine)\n"
   ]
  },
  {
   "cell_type": "code",
   "execution_count": 9,
   "metadata": {},
   "outputs": [
    {
     "data": {
      "text/html": [
       "<div>\n",
       "<style scoped>\n",
       "    .dataframe tbody tr th:only-of-type {\n",
       "        vertical-align: middle;\n",
       "    }\n",
       "\n",
       "    .dataframe tbody tr th {\n",
       "        vertical-align: top;\n",
       "    }\n",
       "\n",
       "    .dataframe thead th {\n",
       "        text-align: right;\n",
       "    }\n",
       "</style>\n",
       "<table border=\"1\" class=\"dataframe\">\n",
       "  <thead>\n",
       "    <tr style=\"text-align: right;\">\n",
       "      <th></th>\n",
       "      <th>Index</th>\n",
       "      <th>crime_type</th>\n",
       "      <th>report_date</th>\n",
       "      <th>Beat</th>\n",
       "      <th>Neigborhood</th>\n",
       "      <th>NPU</th>\n",
       "      <th>lat</th>\n",
       "      <th>lon</th>\n",
       "    </tr>\n",
       "  </thead>\n",
       "  <tbody>\n",
       "    <tr>\n",
       "      <td>0</td>\n",
       "      <td>0</td>\n",
       "      <td>LARCENY-NON VEHICLE</td>\n",
       "      <td>2009-02-28</td>\n",
       "      <td>301.0</td>\n",
       "      <td>Adair Park</td>\n",
       "      <td>V</td>\n",
       "      <td>33.72710</td>\n",
       "      <td>-84.41360</td>\n",
       "    </tr>\n",
       "    <tr>\n",
       "      <td>1</td>\n",
       "      <td>1</td>\n",
       "      <td>LARCENY-NON VEHICLE</td>\n",
       "      <td>2009-02-28</td>\n",
       "      <td>509.0</td>\n",
       "      <td>Downtown</td>\n",
       "      <td>M</td>\n",
       "      <td>33.76158</td>\n",
       "      <td>-84.38496</td>\n",
       "    </tr>\n",
       "    <tr>\n",
       "      <td>2</td>\n",
       "      <td>2</td>\n",
       "      <td>LARCENY-NON VEHICLE</td>\n",
       "      <td>2009-02-28</td>\n",
       "      <td>210.0</td>\n",
       "      <td>Lenox</td>\n",
       "      <td>B</td>\n",
       "      <td>33.84676</td>\n",
       "      <td>-84.36212</td>\n",
       "    </tr>\n",
       "    <tr>\n",
       "      <td>3</td>\n",
       "      <td>3</td>\n",
       "      <td>LARCENY-NON VEHICLE</td>\n",
       "      <td>2009-02-28</td>\n",
       "      <td>204.0</td>\n",
       "      <td>Berkeley Park</td>\n",
       "      <td>D</td>\n",
       "      <td>33.80448</td>\n",
       "      <td>-84.41348</td>\n",
       "    </tr>\n",
       "    <tr>\n",
       "      <td>4</td>\n",
       "      <td>4</td>\n",
       "      <td>LARCENY-NON VEHICLE</td>\n",
       "      <td>2009-02-28</td>\n",
       "      <td>609.0</td>\n",
       "      <td>Edgewood</td>\n",
       "      <td>O</td>\n",
       "      <td>33.75674</td>\n",
       "      <td>-84.34619</td>\n",
       "    </tr>\n",
       "  </tbody>\n",
       "</table>\n",
       "</div>"
      ],
      "text/plain": [
       "   Index           crime_type report_date   Beat    Neigborhood NPU       lat  \\\n",
       "0      0  LARCENY-NON VEHICLE  2009-02-28  301.0     Adair Park   V  33.72710   \n",
       "1      1  LARCENY-NON VEHICLE  2009-02-28  509.0       Downtown   M  33.76158   \n",
       "2      2  LARCENY-NON VEHICLE  2009-02-28  210.0          Lenox   B  33.84676   \n",
       "3      3  LARCENY-NON VEHICLE  2009-02-28  204.0  Berkeley Park   D  33.80448   \n",
       "4      4  LARCENY-NON VEHICLE  2009-02-28  609.0       Edgewood   O  33.75674   \n",
       "\n",
       "        lon  \n",
       "0 -84.41360  \n",
       "1 -84.38496  \n",
       "2 -84.36212  \n",
       "3 -84.41348  \n",
       "4 -84.34619  "
      ]
     },
     "execution_count": 9,
     "metadata": {},
     "output_type": "execute_result"
    }
   ],
   "source": [
    "crime_df['report_date'] = pd.to_datetime(crime_df['report_date'])\n",
    "crime_df.head()"
   ]
  },
  {
   "cell_type": "code",
   "execution_count": null,
   "metadata": {},
   "outputs": [],
   "source": [
    "def crime_variable (row):\n",
    "    if row['crime_type'] == 'HOMICIDE':\n",
    "        return 1\n",
    "    if row['crime_type'] == 'ROBBERY-PEDESTRIAN':\n",
    "        return 1\n",
    "    if row['crime_type'] == 'BURGLARY-RESIDENCE':\n",
    "        return 1\n",
    "    if row['crime_type'] == 'AGG ASSAULT':\n",
    "        return 1\n",
    "    return 0\n",
    "\n",
    "# applying the function to go through every row and create a new column called 'rainy'\n",
    "\n",
    "crime_df['person_crime'] = crime_df.apply(lambda row:crime_variable(row),axis = 1)"
   ]
  },
  {
   "cell_type": "code",
   "execution_count": null,
   "metadata": {},
   "outputs": [],
   "source": [
    "crime_df['year'] = pd.DatetimeIndex(crime_df['report_date']).year\n",
    "crime_df['month'] = pd.DatetimeIndex(crime_df['report_date']).month"
   ]
  },
  {
   "cell_type": "code",
   "execution_count": null,
   "metadata": {},
   "outputs": [],
   "source": [
    "crime_person_df = crime_df[[\"person_crime\",\"year\", \"month\"]]"
   ]
  },
  {
   "cell_type": "code",
   "execution_count": null,
   "metadata": {},
   "outputs": [],
   "source": [
    "crime_person_time_df = crime_person_df.groupby([\"year\", \"month\"]).sum().reset_index()\n",
    "crime_person_time_df.head()"
   ]
  },
  {
   "cell_type": "code",
   "execution_count": null,
   "metadata": {},
   "outputs": [],
   "source": []
  },
  {
   "cell_type": "markdown",
   "metadata": {},
   "source": [
    "# Weather"
   ]
  },
  {
   "cell_type": "code",
   "execution_count": 10,
   "metadata": {},
   "outputs": [],
   "source": [
    "query = session.query(' * from hist_weather')\n",
    "atl_weather_df = pd.read_sql(query.statement, engine)\n"
   ]
  },
  {
   "cell_type": "code",
   "execution_count": 11,
   "metadata": {},
   "outputs": [
    {
     "data": {
      "text/html": [
       "<div>\n",
       "<style scoped>\n",
       "    .dataframe tbody tr th:only-of-type {\n",
       "        vertical-align: middle;\n",
       "    }\n",
       "\n",
       "    .dataframe tbody tr th {\n",
       "        vertical-align: top;\n",
       "    }\n",
       "\n",
       "    .dataframe thead th {\n",
       "        text-align: right;\n",
       "    }\n",
       "</style>\n",
       "<table border=\"1\" class=\"dataframe\">\n",
       "  <thead>\n",
       "    <tr style=\"text-align: right;\">\n",
       "      <th></th>\n",
       "      <th>id</th>\n",
       "      <th>date</th>\n",
       "      <th>date_iso</th>\n",
       "      <th>weather_id</th>\n",
       "      <th>weather_group</th>\n",
       "      <th>weather</th>\n",
       "      <th>weather_icon</th>\n",
       "      <th>temperature</th>\n",
       "      <th>temp_min</th>\n",
       "      <th>temp_max</th>\n",
       "      <th>feels_like</th>\n",
       "      <th>pressure</th>\n",
       "      <th>humidity</th>\n",
       "      <th>wind_speed</th>\n",
       "      <th>cloud_percentage</th>\n",
       "      <th>date_simple</th>\n",
       "    </tr>\n",
       "  </thead>\n",
       "  <tbody>\n",
       "    <tr>\n",
       "      <td>0</td>\n",
       "      <td>0</td>\n",
       "      <td>1230768000</td>\n",
       "      <td>2009-01-01 00:00:00 +0000 UTC</td>\n",
       "      <td>800</td>\n",
       "      <td>Clear</td>\n",
       "      <td>sky is clear</td>\n",
       "      <td>01n</td>\n",
       "      <td>39.78</td>\n",
       "      <td>39.20</td>\n",
       "      <td>41.12</td>\n",
       "      <td>25.48</td>\n",
       "      <td>1023</td>\n",
       "      <td>40</td>\n",
       "      <td>16.11</td>\n",
       "      <td>1</td>\n",
       "      <td>2009-01-01</td>\n",
       "    </tr>\n",
       "    <tr>\n",
       "      <td>1</td>\n",
       "      <td>1</td>\n",
       "      <td>1230771600</td>\n",
       "      <td>2009-01-01 01:00:00 +0000 UTC</td>\n",
       "      <td>800</td>\n",
       "      <td>Clear</td>\n",
       "      <td>sky is clear</td>\n",
       "      <td>01n</td>\n",
       "      <td>39.02</td>\n",
       "      <td>37.40</td>\n",
       "      <td>41.49</td>\n",
       "      <td>30.45</td>\n",
       "      <td>1024</td>\n",
       "      <td>40</td>\n",
       "      <td>5.82</td>\n",
       "      <td>1</td>\n",
       "      <td>2009-01-01</td>\n",
       "    </tr>\n",
       "    <tr>\n",
       "      <td>2</td>\n",
       "      <td>2</td>\n",
       "      <td>1230775200</td>\n",
       "      <td>2009-01-01 02:00:00 +0000 UTC</td>\n",
       "      <td>800</td>\n",
       "      <td>Clear</td>\n",
       "      <td>sky is clear</td>\n",
       "      <td>01n</td>\n",
       "      <td>37.81</td>\n",
       "      <td>37.04</td>\n",
       "      <td>40.35</td>\n",
       "      <td>28.63</td>\n",
       "      <td>1025</td>\n",
       "      <td>42</td>\n",
       "      <td>6.93</td>\n",
       "      <td>1</td>\n",
       "      <td>2009-01-01</td>\n",
       "    </tr>\n",
       "    <tr>\n",
       "      <td>3</td>\n",
       "      <td>3</td>\n",
       "      <td>1230778800</td>\n",
       "      <td>2009-01-01 03:00:00 +0000 UTC</td>\n",
       "      <td>800</td>\n",
       "      <td>Clear</td>\n",
       "      <td>sky is clear</td>\n",
       "      <td>01n</td>\n",
       "      <td>35.82</td>\n",
       "      <td>35.55</td>\n",
       "      <td>35.96</td>\n",
       "      <td>27.25</td>\n",
       "      <td>1025</td>\n",
       "      <td>45</td>\n",
       "      <td>5.82</td>\n",
       "      <td>1</td>\n",
       "      <td>2009-01-01</td>\n",
       "    </tr>\n",
       "    <tr>\n",
       "      <td>4</td>\n",
       "      <td>4</td>\n",
       "      <td>1230782400</td>\n",
       "      <td>2009-01-01 04:00:00 +0000 UTC</td>\n",
       "      <td>800</td>\n",
       "      <td>Clear</td>\n",
       "      <td>sky is clear</td>\n",
       "      <td>01n</td>\n",
       "      <td>34.59</td>\n",
       "      <td>33.80</td>\n",
       "      <td>35.52</td>\n",
       "      <td>27.39</td>\n",
       "      <td>1025</td>\n",
       "      <td>47</td>\n",
       "      <td>3.36</td>\n",
       "      <td>1</td>\n",
       "      <td>2009-01-01</td>\n",
       "    </tr>\n",
       "  </tbody>\n",
       "</table>\n",
       "</div>"
      ],
      "text/plain": [
       "   id        date                       date_iso weather_id weather_group  \\\n",
       "0   0  1230768000  2009-01-01 00:00:00 +0000 UTC        800         Clear   \n",
       "1   1  1230771600  2009-01-01 01:00:00 +0000 UTC        800         Clear   \n",
       "2   2  1230775200  2009-01-01 02:00:00 +0000 UTC        800         Clear   \n",
       "3   3  1230778800  2009-01-01 03:00:00 +0000 UTC        800         Clear   \n",
       "4   4  1230782400  2009-01-01 04:00:00 +0000 UTC        800         Clear   \n",
       "\n",
       "        weather weather_icon  temperature  temp_min  temp_max  feels_like  \\\n",
       "0  sky is clear          01n        39.78     39.20     41.12       25.48   \n",
       "1  sky is clear          01n        39.02     37.40     41.49       30.45   \n",
       "2  sky is clear          01n        37.81     37.04     40.35       28.63   \n",
       "3  sky is clear          01n        35.82     35.55     35.96       27.25   \n",
       "4  sky is clear          01n        34.59     33.80     35.52       27.39   \n",
       "\n",
       "   pressure  humidity  wind_speed  cloud_percentage date_simple  \n",
       "0      1023        40       16.11                 1  2009-01-01  \n",
       "1      1024        40        5.82                 1  2009-01-01  \n",
       "2      1025        42        6.93                 1  2009-01-01  \n",
       "3      1025        45        5.82                 1  2009-01-01  \n",
       "4      1025        47        3.36                 1  2009-01-01  "
      ]
     },
     "execution_count": 11,
     "metadata": {},
     "output_type": "execute_result"
    }
   ],
   "source": [
    "atl_weather_df['date_simple'] = pd.to_datetime(atl_weather_df['date_simple'])\n",
    "atl_weather_df.head()"
   ]
  },
  {
   "cell_type": "code",
   "execution_count": null,
   "metadata": {},
   "outputs": [],
   "source": [
    "atl_weather_df['year'] = pd.DatetimeIndex(atl_weather_df['date_simple']).year\n",
    "atl_weather_df['month'] = pd.DatetimeIndex(atl_weather_df['date_simple']).month"
   ]
  },
  {
   "cell_type": "code",
   "execution_count": null,
   "metadata": {},
   "outputs": [],
   "source": [
    "real_feel_Time_df = atl_weather_df[[\"feels_like\",\"year\", \"month\"]]\n",
    "real_feel_TimeGroup_df = real_feel_Time_df.groupby([\"year\", \"month\"]).mean().reset_index()\n",
    "real_feel_TimeGroup_df.head()"
   ]
  },
  {
   "cell_type": "code",
   "execution_count": null,
   "metadata": {},
   "outputs": [],
   "source": []
  },
  {
   "cell_type": "markdown",
   "metadata": {},
   "source": [
    "# Join Crime and Weather"
   ]
  },
  {
   "cell_type": "code",
   "execution_count": null,
   "metadata": {},
   "outputs": [],
   "source": [
    "personCrime_temp_df = pd.merge(crime_person_time_df,real_feel_TimeGroup_df, how = 'inner', on = ['year','month'])"
   ]
  },
  {
   "cell_type": "code",
   "execution_count": null,
   "metadata": {},
   "outputs": [],
   "source": [
    "personCrime_temp_df[\"day\"] = 1"
   ]
  },
  {
   "cell_type": "code",
   "execution_count": null,
   "metadata": {},
   "outputs": [],
   "source": [
    "personCrime_temp_df[\"date\"] = pd.to_datetime(personCrime_temp_df[['year', 'month', 'day']])"
   ]
  },
  {
   "cell_type": "code",
   "execution_count": null,
   "metadata": {},
   "outputs": [],
   "source": [
    "org_crime_temp_df = personCrime_temp_df[[\"date\",\"person_crime\",\"feels_like\"]]\n",
    "org_crime_temp_df = org_crime_temp_df.set_index(\"date\")"
   ]
  },
  {
   "cell_type": "code",
   "execution_count": null,
   "metadata": {},
   "outputs": [],
   "source": [
    "fig, ax1 = plt.subplots()\n",
    "\n",
    "color = 'tab:red'\n",
    "ax1.set_xlabel('Date')\n",
    "ax1.set_ylabel('Count Crimes', color=color)\n",
    "ax1.plot(org_crime_temp_df.index, org_crime_temp_df.person_crime, color=color)\n",
    "ax1.tick_params(axis='y', labelcolor=color)\n",
    "\n",
    "ax2 = ax1.twinx()  # instantiate a second axes that shares the same x-axis\n",
    "\n",
    "color = 'tab:blue'\n",
    "ax2.set_ylabel('Real Feel', color=color)  # we already handled the x-label with ax1\n",
    "ax2.plot(org_crime_temp_df.index, org_crime_temp_df.feels_like, color=color)\n",
    "ax2.tick_params(axis='y', labelcolor=color)\n",
    "\n",
    "fig.tight_layout()  # otherwise the right y-label is slightly clipped\n",
    "plt.show()"
   ]
  }
 ],
 "metadata": {
  "kernelspec": {
   "display_name": "Python 3",
   "language": "python",
   "name": "python3"
  },
  "language_info": {
   "codemirror_mode": {
    "name": "ipython",
    "version": 3
   },
   "file_extension": ".py",
   "mimetype": "text/x-python",
   "name": "python",
   "nbconvert_exporter": "python",
   "pygments_lexer": "ipython3",
   "version": "3.7.4"
  }
 },
 "nbformat": 4,
 "nbformat_minor": 2
}
