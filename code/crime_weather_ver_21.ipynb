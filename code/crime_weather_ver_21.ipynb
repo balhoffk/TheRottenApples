{
 "cells": [
  {
   "cell_type": "code",
   "execution_count": 1,
   "metadata": {},
   "outputs": [],
   "source": [
    "import sys\n",
    "sys.path.append(\"..\")\n",
    "from config import aws_key, aws_secret\n",
    "from config import mongo_username, mongo_password, mongo_server_name\n",
    "from config import postgres_server_name, postgres_database, postgres_username, postgres_port, postgres_password"
   ]
  },
  {
   "cell_type": "code",
   "execution_count": 2,
   "metadata": {},
   "outputs": [],
   "source": [
    "from sqlalchemy import create_engine\n",
    "from sqlalchemy.ext.declarative import declarative_base\n",
    "from sqlalchemy import Column, Integer, String, Float\n",
    "from sqlalchemy.orm import Session"
   ]
  },
  {
   "cell_type": "code",
   "execution_count": 3,
   "metadata": {},
   "outputs": [],
   "source": [
    "import pandas as pd\n",
    "import numpy as np\n",
    "import matplotlib.pyplot as plt"
   ]
  },
  {
   "cell_type": "code",
   "execution_count": 4,
   "metadata": {},
   "outputs": [],
   "source": [
    "import tra_functions as tralib"
   ]
  },
  {
   "cell_type": "code",
   "execution_count": 5,
   "metadata": {},
   "outputs": [],
   "source": [
    "db_url = f\"postgres://{postgres_username}:{postgres_password}@{postgres_server_name}:{postgres_port}/{postgres_database}\"\n",
    "engine = create_engine(db_url)\n",
    "conn = engine.connect()\n",
    "session = Session(bind=engine)"
   ]
  },
  {
   "cell_type": "markdown",
   "metadata": {},
   "source": [
    "# Crime"
   ]
  },
  {
   "cell_type": "code",
   "execution_count": 6,
   "metadata": {},
   "outputs": [],
   "source": [
    "query = session.query(' * from all_crime')\n",
    "crime_df = pd.read_sql(query.statement, engine)\n"
   ]
  },
  {
   "cell_type": "code",
   "execution_count": 7,
   "metadata": {},
   "outputs": [
    {
     "data": {
      "text/html": [
       "<div>\n",
       "<style scoped>\n",
       "    .dataframe tbody tr th:only-of-type {\n",
       "        vertical-align: middle;\n",
       "    }\n",
       "\n",
       "    .dataframe tbody tr th {\n",
       "        vertical-align: top;\n",
       "    }\n",
       "\n",
       "    .dataframe thead th {\n",
       "        text-align: right;\n",
       "    }\n",
       "</style>\n",
       "<table border=\"1\" class=\"dataframe\">\n",
       "  <thead>\n",
       "    <tr style=\"text-align: right;\">\n",
       "      <th></th>\n",
       "      <th>Index</th>\n",
       "      <th>crime_type</th>\n",
       "      <th>report_date</th>\n",
       "      <th>Beat</th>\n",
       "      <th>Neigborhood</th>\n",
       "      <th>NPU</th>\n",
       "      <th>lat</th>\n",
       "      <th>lon</th>\n",
       "    </tr>\n",
       "  </thead>\n",
       "  <tbody>\n",
       "    <tr>\n",
       "      <td>0</td>\n",
       "      <td>0</td>\n",
       "      <td>LARCENY-NON VEHICLE</td>\n",
       "      <td>2009-02-28</td>\n",
       "      <td>301.0</td>\n",
       "      <td>Adair Park</td>\n",
       "      <td>V</td>\n",
       "      <td>33.72710</td>\n",
       "      <td>-84.41360</td>\n",
       "    </tr>\n",
       "    <tr>\n",
       "      <td>1</td>\n",
       "      <td>1</td>\n",
       "      <td>LARCENY-NON VEHICLE</td>\n",
       "      <td>2009-02-28</td>\n",
       "      <td>509.0</td>\n",
       "      <td>Downtown</td>\n",
       "      <td>M</td>\n",
       "      <td>33.76158</td>\n",
       "      <td>-84.38496</td>\n",
       "    </tr>\n",
       "    <tr>\n",
       "      <td>2</td>\n",
       "      <td>2</td>\n",
       "      <td>LARCENY-NON VEHICLE</td>\n",
       "      <td>2009-02-28</td>\n",
       "      <td>210.0</td>\n",
       "      <td>Lenox</td>\n",
       "      <td>B</td>\n",
       "      <td>33.84676</td>\n",
       "      <td>-84.36212</td>\n",
       "    </tr>\n",
       "    <tr>\n",
       "      <td>3</td>\n",
       "      <td>3</td>\n",
       "      <td>LARCENY-NON VEHICLE</td>\n",
       "      <td>2009-02-28</td>\n",
       "      <td>204.0</td>\n",
       "      <td>Berkeley Park</td>\n",
       "      <td>D</td>\n",
       "      <td>33.80448</td>\n",
       "      <td>-84.41348</td>\n",
       "    </tr>\n",
       "    <tr>\n",
       "      <td>4</td>\n",
       "      <td>4</td>\n",
       "      <td>LARCENY-NON VEHICLE</td>\n",
       "      <td>2009-02-28</td>\n",
       "      <td>609.0</td>\n",
       "      <td>Edgewood</td>\n",
       "      <td>O</td>\n",
       "      <td>33.75674</td>\n",
       "      <td>-84.34619</td>\n",
       "    </tr>\n",
       "  </tbody>\n",
       "</table>\n",
       "</div>"
      ],
      "text/plain": [
       "   Index           crime_type report_date   Beat    Neigborhood NPU       lat  \\\n",
       "0      0  LARCENY-NON VEHICLE  2009-02-28  301.0     Adair Park   V  33.72710   \n",
       "1      1  LARCENY-NON VEHICLE  2009-02-28  509.0       Downtown   M  33.76158   \n",
       "2      2  LARCENY-NON VEHICLE  2009-02-28  210.0          Lenox   B  33.84676   \n",
       "3      3  LARCENY-NON VEHICLE  2009-02-28  204.0  Berkeley Park   D  33.80448   \n",
       "4      4  LARCENY-NON VEHICLE  2009-02-28  609.0       Edgewood   O  33.75674   \n",
       "\n",
       "        lon  \n",
       "0 -84.41360  \n",
       "1 -84.38496  \n",
       "2 -84.36212  \n",
       "3 -84.41348  \n",
       "4 -84.34619  "
      ]
     },
     "execution_count": 7,
     "metadata": {},
     "output_type": "execute_result"
    }
   ],
   "source": [
    "crime_df['report_date'] = pd.to_datetime(crime_df['report_date'])\n",
    "crime_df.head()"
   ]
  },
  {
   "cell_type": "code",
   "execution_count": 8,
   "metadata": {},
   "outputs": [],
   "source": [
    "def crime_variable (row):\n",
    "    if row['crime_type'] == 'HOMICIDE':\n",
    "        return 1\n",
    "    if row['crime_type'] == 'ROBBERY-PEDESTRIAN':\n",
    "        return 1\n",
    "    if row['crime_type'] == 'BURGLARY-RESIDENCE':\n",
    "        return 1\n",
    "    if row['crime_type'] == 'AGG ASSAULT':\n",
    "        return 1\n",
    "    return 0\n",
    "\n",
    "# applying the function to go through every row and create a new column called 'rainy'\n",
    "\n",
    "crime_df['person_crime'] = crime_df.apply(lambda row:crime_variable(row),axis = 1)"
   ]
  },
  {
   "cell_type": "code",
   "execution_count": 9,
   "metadata": {},
   "outputs": [],
   "source": [
    "crime_df['year'] = pd.DatetimeIndex(crime_df['report_date']).year\n",
    "crime_df['month'] = pd.DatetimeIndex(crime_df['report_date']).month"
   ]
  },
  {
   "cell_type": "code",
   "execution_count": 10,
   "metadata": {},
   "outputs": [],
   "source": [
    "crime_person_df = crime_df[[\"person_crime\",\"year\", \"month\"]]"
   ]
  },
  {
   "cell_type": "code",
   "execution_count": 11,
   "metadata": {},
   "outputs": [
    {
     "data": {
      "text/html": [
       "<div>\n",
       "<style scoped>\n",
       "    .dataframe tbody tr th:only-of-type {\n",
       "        vertical-align: middle;\n",
       "    }\n",
       "\n",
       "    .dataframe tbody tr th {\n",
       "        vertical-align: top;\n",
       "    }\n",
       "\n",
       "    .dataframe thead th {\n",
       "        text-align: right;\n",
       "    }\n",
       "</style>\n",
       "<table border=\"1\" class=\"dataframe\">\n",
       "  <thead>\n",
       "    <tr style=\"text-align: right;\">\n",
       "      <th></th>\n",
       "      <th>year</th>\n",
       "      <th>month</th>\n",
       "      <th>person_crime</th>\n",
       "    </tr>\n",
       "  </thead>\n",
       "  <tbody>\n",
       "    <tr>\n",
       "      <td>0</td>\n",
       "      <td>2009</td>\n",
       "      <td>1</td>\n",
       "      <td>1125</td>\n",
       "    </tr>\n",
       "    <tr>\n",
       "      <td>1</td>\n",
       "      <td>2009</td>\n",
       "      <td>2</td>\n",
       "      <td>777</td>\n",
       "    </tr>\n",
       "    <tr>\n",
       "      <td>2</td>\n",
       "      <td>2009</td>\n",
       "      <td>3</td>\n",
       "      <td>920</td>\n",
       "    </tr>\n",
       "    <tr>\n",
       "      <td>3</td>\n",
       "      <td>2009</td>\n",
       "      <td>4</td>\n",
       "      <td>944</td>\n",
       "    </tr>\n",
       "    <tr>\n",
       "      <td>4</td>\n",
       "      <td>2009</td>\n",
       "      <td>5</td>\n",
       "      <td>993</td>\n",
       "    </tr>\n",
       "  </tbody>\n",
       "</table>\n",
       "</div>"
      ],
      "text/plain": [
       "   year  month  person_crime\n",
       "0  2009      1          1125\n",
       "1  2009      2           777\n",
       "2  2009      3           920\n",
       "3  2009      4           944\n",
       "4  2009      5           993"
      ]
     },
     "execution_count": 11,
     "metadata": {},
     "output_type": "execute_result"
    }
   ],
   "source": [
    "crime_person_time_df = crime_person_df.groupby([\"year\", \"month\"]).sum().reset_index()\n",
    "crime_person_time_df.head()"
   ]
  },
  {
   "cell_type": "code",
   "execution_count": null,
   "metadata": {},
   "outputs": [],
   "source": []
  },
  {
   "cell_type": "markdown",
   "metadata": {},
   "source": [
    "# Weather"
   ]
  },
  {
   "cell_type": "code",
   "execution_count": 12,
   "metadata": {},
   "outputs": [],
   "source": [
    "query = session.query(' * from hist_weather')\n",
    "atl_weather_df = pd.read_sql(query.statement, engine)\n"
   ]
  },
  {
   "cell_type": "code",
   "execution_count": 13,
   "metadata": {},
   "outputs": [
    {
     "data": {
      "text/html": [
       "<div>\n",
       "<style scoped>\n",
       "    .dataframe tbody tr th:only-of-type {\n",
       "        vertical-align: middle;\n",
       "    }\n",
       "\n",
       "    .dataframe tbody tr th {\n",
       "        vertical-align: top;\n",
       "    }\n",
       "\n",
       "    .dataframe thead th {\n",
       "        text-align: right;\n",
       "    }\n",
       "</style>\n",
       "<table border=\"1\" class=\"dataframe\">\n",
       "  <thead>\n",
       "    <tr style=\"text-align: right;\">\n",
       "      <th></th>\n",
       "      <th>id</th>\n",
       "      <th>date</th>\n",
       "      <th>date_iso</th>\n",
       "      <th>weather_id</th>\n",
       "      <th>weather_group</th>\n",
       "      <th>weather</th>\n",
       "      <th>weather_icon</th>\n",
       "      <th>temperature</th>\n",
       "      <th>temp_min</th>\n",
       "      <th>temp_max</th>\n",
       "      <th>feels_like</th>\n",
       "      <th>pressure</th>\n",
       "      <th>humidity</th>\n",
       "      <th>wind_speed</th>\n",
       "      <th>cloud_percentage</th>\n",
       "      <th>date_simple</th>\n",
       "    </tr>\n",
       "  </thead>\n",
       "  <tbody>\n",
       "    <tr>\n",
       "      <td>0</td>\n",
       "      <td>0</td>\n",
       "      <td>1230768000</td>\n",
       "      <td>2009-01-01 00:00:00 +0000 UTC</td>\n",
       "      <td>800</td>\n",
       "      <td>Clear</td>\n",
       "      <td>sky is clear</td>\n",
       "      <td>01n</td>\n",
       "      <td>39.78</td>\n",
       "      <td>39.20</td>\n",
       "      <td>41.12</td>\n",
       "      <td>25.48</td>\n",
       "      <td>1023</td>\n",
       "      <td>40</td>\n",
       "      <td>16.11</td>\n",
       "      <td>1</td>\n",
       "      <td>2009-01-01</td>\n",
       "    </tr>\n",
       "    <tr>\n",
       "      <td>1</td>\n",
       "      <td>1</td>\n",
       "      <td>1230771600</td>\n",
       "      <td>2009-01-01 01:00:00 +0000 UTC</td>\n",
       "      <td>800</td>\n",
       "      <td>Clear</td>\n",
       "      <td>sky is clear</td>\n",
       "      <td>01n</td>\n",
       "      <td>39.02</td>\n",
       "      <td>37.40</td>\n",
       "      <td>41.49</td>\n",
       "      <td>30.45</td>\n",
       "      <td>1024</td>\n",
       "      <td>40</td>\n",
       "      <td>5.82</td>\n",
       "      <td>1</td>\n",
       "      <td>2009-01-01</td>\n",
       "    </tr>\n",
       "    <tr>\n",
       "      <td>2</td>\n",
       "      <td>2</td>\n",
       "      <td>1230775200</td>\n",
       "      <td>2009-01-01 02:00:00 +0000 UTC</td>\n",
       "      <td>800</td>\n",
       "      <td>Clear</td>\n",
       "      <td>sky is clear</td>\n",
       "      <td>01n</td>\n",
       "      <td>37.81</td>\n",
       "      <td>37.04</td>\n",
       "      <td>40.35</td>\n",
       "      <td>28.63</td>\n",
       "      <td>1025</td>\n",
       "      <td>42</td>\n",
       "      <td>6.93</td>\n",
       "      <td>1</td>\n",
       "      <td>2009-01-01</td>\n",
       "    </tr>\n",
       "    <tr>\n",
       "      <td>3</td>\n",
       "      <td>3</td>\n",
       "      <td>1230778800</td>\n",
       "      <td>2009-01-01 03:00:00 +0000 UTC</td>\n",
       "      <td>800</td>\n",
       "      <td>Clear</td>\n",
       "      <td>sky is clear</td>\n",
       "      <td>01n</td>\n",
       "      <td>35.82</td>\n",
       "      <td>35.55</td>\n",
       "      <td>35.96</td>\n",
       "      <td>27.25</td>\n",
       "      <td>1025</td>\n",
       "      <td>45</td>\n",
       "      <td>5.82</td>\n",
       "      <td>1</td>\n",
       "      <td>2009-01-01</td>\n",
       "    </tr>\n",
       "    <tr>\n",
       "      <td>4</td>\n",
       "      <td>4</td>\n",
       "      <td>1230782400</td>\n",
       "      <td>2009-01-01 04:00:00 +0000 UTC</td>\n",
       "      <td>800</td>\n",
       "      <td>Clear</td>\n",
       "      <td>sky is clear</td>\n",
       "      <td>01n</td>\n",
       "      <td>34.59</td>\n",
       "      <td>33.80</td>\n",
       "      <td>35.52</td>\n",
       "      <td>27.39</td>\n",
       "      <td>1025</td>\n",
       "      <td>47</td>\n",
       "      <td>3.36</td>\n",
       "      <td>1</td>\n",
       "      <td>2009-01-01</td>\n",
       "    </tr>\n",
       "  </tbody>\n",
       "</table>\n",
       "</div>"
      ],
      "text/plain": [
       "   id        date                       date_iso weather_id weather_group  \\\n",
       "0   0  1230768000  2009-01-01 00:00:00 +0000 UTC        800         Clear   \n",
       "1   1  1230771600  2009-01-01 01:00:00 +0000 UTC        800         Clear   \n",
       "2   2  1230775200  2009-01-01 02:00:00 +0000 UTC        800         Clear   \n",
       "3   3  1230778800  2009-01-01 03:00:00 +0000 UTC        800         Clear   \n",
       "4   4  1230782400  2009-01-01 04:00:00 +0000 UTC        800         Clear   \n",
       "\n",
       "        weather weather_icon  temperature  temp_min  temp_max  feels_like  \\\n",
       "0  sky is clear          01n        39.78     39.20     41.12       25.48   \n",
       "1  sky is clear          01n        39.02     37.40     41.49       30.45   \n",
       "2  sky is clear          01n        37.81     37.04     40.35       28.63   \n",
       "3  sky is clear          01n        35.82     35.55     35.96       27.25   \n",
       "4  sky is clear          01n        34.59     33.80     35.52       27.39   \n",
       "\n",
       "   pressure  humidity  wind_speed  cloud_percentage date_simple  \n",
       "0      1023        40       16.11                 1  2009-01-01  \n",
       "1      1024        40        5.82                 1  2009-01-01  \n",
       "2      1025        42        6.93                 1  2009-01-01  \n",
       "3      1025        45        5.82                 1  2009-01-01  \n",
       "4      1025        47        3.36                 1  2009-01-01  "
      ]
     },
     "execution_count": 13,
     "metadata": {},
     "output_type": "execute_result"
    }
   ],
   "source": [
    "atl_weather_df['date_simple'] = pd.to_datetime(atl_weather_df['date_simple'])\n",
    "atl_weather_df.head()"
   ]
  },
  {
   "cell_type": "code",
   "execution_count": 14,
   "metadata": {},
   "outputs": [],
   "source": [
    "atl_weather_df['year'] = pd.DatetimeIndex(atl_weather_df['date_simple']).year\n",
    "atl_weather_df['month'] = pd.DatetimeIndex(atl_weather_df['date_simple']).month"
   ]
  },
  {
   "cell_type": "code",
   "execution_count": 15,
   "metadata": {},
   "outputs": [],
   "source": [
    "def weather_variable (row):\n",
    "    if row['weather_group'] == 'Rain':\n",
    "        return 1\n",
    "    if row['weather_group'] == 'Thunderstorm':\n",
    "        return 1\n",
    "    if row['weather_group'] == 'Snow':\n",
    "        return 1\n",
    "    return 0\n",
    "\n",
    "# applying the function to go through every row and create a new column called 'rainy'\n",
    "\n",
    "atl_weather_df['percentage_rain'] = atl_weather_df.apply(lambda row:weather_variable(row),axis = 1)"
   ]
  },
  {
   "cell_type": "code",
   "execution_count": 16,
   "metadata": {},
   "outputs": [
    {
     "data": {
      "text/html": [
       "<div>\n",
       "<style scoped>\n",
       "    .dataframe tbody tr th:only-of-type {\n",
       "        vertical-align: middle;\n",
       "    }\n",
       "\n",
       "    .dataframe tbody tr th {\n",
       "        vertical-align: top;\n",
       "    }\n",
       "\n",
       "    .dataframe thead th {\n",
       "        text-align: right;\n",
       "    }\n",
       "</style>\n",
       "<table border=\"1\" class=\"dataframe\">\n",
       "  <thead>\n",
       "    <tr style=\"text-align: right;\">\n",
       "      <th></th>\n",
       "      <th>year</th>\n",
       "      <th>month</th>\n",
       "      <th>feels_like</th>\n",
       "    </tr>\n",
       "  </thead>\n",
       "  <tbody>\n",
       "    <tr>\n",
       "      <td>0</td>\n",
       "      <td>2009</td>\n",
       "      <td>1</td>\n",
       "      <td>35.386667</td>\n",
       "    </tr>\n",
       "    <tr>\n",
       "      <td>1</td>\n",
       "      <td>2009</td>\n",
       "      <td>2</td>\n",
       "      <td>38.375982</td>\n",
       "    </tr>\n",
       "    <tr>\n",
       "      <td>2</td>\n",
       "      <td>2009</td>\n",
       "      <td>3</td>\n",
       "      <td>48.506102</td>\n",
       "    </tr>\n",
       "    <tr>\n",
       "      <td>3</td>\n",
       "      <td>2009</td>\n",
       "      <td>4</td>\n",
       "      <td>55.358583</td>\n",
       "    </tr>\n",
       "    <tr>\n",
       "      <td>4</td>\n",
       "      <td>2009</td>\n",
       "      <td>5</td>\n",
       "      <td>68.471331</td>\n",
       "    </tr>\n",
       "  </tbody>\n",
       "</table>\n",
       "</div>"
      ],
      "text/plain": [
       "   year  month  feels_like\n",
       "0  2009      1   35.386667\n",
       "1  2009      2   38.375982\n",
       "2  2009      3   48.506102\n",
       "3  2009      4   55.358583\n",
       "4  2009      5   68.471331"
      ]
     },
     "execution_count": 16,
     "metadata": {},
     "output_type": "execute_result"
    }
   ],
   "source": [
    "real_feel_Time_df = atl_weather_df[[\"feels_like\",\"year\", \"month\"]]\n",
    "real_feel_TimeGroup_df = real_feel_Time_df.groupby([\"year\", \"month\"]).mean().reset_index()\n",
    "real_feel_TimeGroup_df.head()"
   ]
  },
  {
   "cell_type": "code",
   "execution_count": 17,
   "metadata": {},
   "outputs": [
    {
     "data": {
      "text/plain": [
       "Timestamp('2009-01-01 00:00:00')"
      ]
     },
     "execution_count": 17,
     "metadata": {},
     "output_type": "execute_result"
    }
   ],
   "source": [
    "atl_weather_df['date_simple'].min()"
   ]
  },
  {
   "cell_type": "code",
   "execution_count": 18,
   "metadata": {},
   "outputs": [
    {
     "data": {
      "text/plain": [
       "Timestamp('2020-03-31 00:00:00')"
      ]
     },
     "execution_count": 18,
     "metadata": {},
     "output_type": "execute_result"
    }
   ],
   "source": [
    "atl_weather_df['date_simple'].max()"
   ]
  },
  {
   "cell_type": "markdown",
   "metadata": {},
   "source": [
    "# Individual Data"
   ]
  },
  {
   "cell_type": "markdown",
   "metadata": {},
   "source": [
    "# Average Real Feel by Month"
   ]
  },
  {
   "cell_type": "code",
   "execution_count": 19,
   "metadata": {},
   "outputs": [],
   "source": [
    "real_feel_TimeGroup_df[\"day\"] = 1"
   ]
  },
  {
   "cell_type": "code",
   "execution_count": 20,
   "metadata": {},
   "outputs": [],
   "source": [
    "real_feel_TimeGroup_df[\"date\"] = pd.to_datetime(real_feel_TimeGroup_df[['year', 'month', 'day']])"
   ]
  },
  {
   "cell_type": "code",
   "execution_count": 21,
   "metadata": {},
   "outputs": [],
   "source": [
    "# Added by Kannan.  Change date type\n",
    "real_feel_TimeGroup_df[\"date\"]= real_feel_TimeGroup_df[\"date\"].astype(str)"
   ]
  },
  {
   "cell_type": "code",
   "execution_count": null,
   "metadata": {},
   "outputs": [],
   "source": [
    "# Commented by Kannan\n",
    "# real_feel_time_df[(real_feel_time_df['date'] > '2009-01-01') & (real_feel_time_df['date'] < '2020-03-31')]"
   ]
  },
  {
   "cell_type": "code",
   "execution_count": 23,
   "metadata": {},
   "outputs": [],
   "source": [
    "# Un-commented by Kannan\n",
    "real_feel_time_df = real_feel_TimeGroup_df[[\"date\",\"feels_like\"]]\n",
    "real_feel_time_df = real_feel_time_df.set_index(\"date\")\n",
    "real_feel_time_df = real_feel_time_df.loc['2009-01-01':'2020-03-31']"
   ]
  },
  {
   "cell_type": "code",
   "execution_count": 24,
   "metadata": {},
   "outputs": [
    {
     "data": {
      "text/html": [
       "<div>\n",
       "<style scoped>\n",
       "    .dataframe tbody tr th:only-of-type {\n",
       "        vertical-align: middle;\n",
       "    }\n",
       "\n",
       "    .dataframe tbody tr th {\n",
       "        vertical-align: top;\n",
       "    }\n",
       "\n",
       "    .dataframe thead th {\n",
       "        text-align: right;\n",
       "    }\n",
       "</style>\n",
       "<table border=\"1\" class=\"dataframe\">\n",
       "  <thead>\n",
       "    <tr style=\"text-align: right;\">\n",
       "      <th></th>\n",
       "      <th>feels_like</th>\n",
       "    </tr>\n",
       "    <tr>\n",
       "      <th>date</th>\n",
       "      <th></th>\n",
       "    </tr>\n",
       "  </thead>\n",
       "  <tbody>\n",
       "    <tr>\n",
       "      <td>2009-01-01</td>\n",
       "      <td>35.386667</td>\n",
       "    </tr>\n",
       "    <tr>\n",
       "      <td>2009-02-01</td>\n",
       "      <td>38.375982</td>\n",
       "    </tr>\n",
       "    <tr>\n",
       "      <td>2009-03-01</td>\n",
       "      <td>48.506102</td>\n",
       "    </tr>\n",
       "    <tr>\n",
       "      <td>2009-04-01</td>\n",
       "      <td>55.358583</td>\n",
       "    </tr>\n",
       "    <tr>\n",
       "      <td>2009-05-01</td>\n",
       "      <td>68.471331</td>\n",
       "    </tr>\n",
       "  </tbody>\n",
       "</table>\n",
       "</div>"
      ],
      "text/plain": [
       "            feels_like\n",
       "date                  \n",
       "2009-01-01   35.386667\n",
       "2009-02-01   38.375982\n",
       "2009-03-01   48.506102\n",
       "2009-04-01   55.358583\n",
       "2009-05-01   68.471331"
      ]
     },
     "execution_count": 24,
     "metadata": {},
     "output_type": "execute_result"
    }
   ],
   "source": [
    "real_feel_time_df.head()"
   ]
  },
  {
   "cell_type": "code",
   "execution_count": 25,
   "metadata": {},
   "outputs": [
    {
     "data": {
      "text/plain": [
       "135"
      ]
     },
     "execution_count": 25,
     "metadata": {},
     "output_type": "execute_result"
    }
   ],
   "source": [
    "len(real_feel_time_df)"
   ]
  },
  {
   "cell_type": "code",
   "execution_count": 27,
   "metadata": {},
   "outputs": [],
   "source": [
    "tralib.write_df_to_mongo_as_json(\"real_feel_over_time\", real_feel_time_df)"
   ]
  },
  {
   "cell_type": "markdown",
   "metadata": {},
   "source": [
    "# Average Average Temp by Month"
   ]
  },
  {
   "cell_type": "code",
   "execution_count": null,
   "metadata": {},
   "outputs": [],
   "source": [
    "temperature_brokenDate_df = atl_weather_df[[\"temperature\",\"year\", \"month\"]]"
   ]
  },
  {
   "cell_type": "code",
   "execution_count": null,
   "metadata": {},
   "outputs": [],
   "source": [
    "temperature_brokenDate_df = temperature_brokenDate_df.groupby([\"year\", \"month\"]).mean().reset_index()\n",
    "temperature_brokenDate_df.head()"
   ]
  },
  {
   "cell_type": "code",
   "execution_count": null,
   "metadata": {},
   "outputs": [],
   "source": [
    "temperature_brokenDate_df[\"day\"] = 1"
   ]
  },
  {
   "cell_type": "code",
   "execution_count": null,
   "metadata": {},
   "outputs": [],
   "source": [
    "temperature_brokenDate_df[\"date\"] = pd.to_datetime(temperature_brokenDate_df[['year', 'month', 'day']])"
   ]
  },
  {
   "cell_type": "code",
   "execution_count": null,
   "metadata": {},
   "outputs": [],
   "source": [
    "temperature_time_df = temperature_brokenDate_df[[\"date\",\"temperature\"]]\n",
    "temperature_time_df  = temperature_time_df.set_index(\"date\")"
   ]
  },
  {
   "cell_type": "code",
   "execution_count": null,
   "metadata": {},
   "outputs": [],
   "source": [
    "temp_over_time = temperature_time_df.loc['2009-01-01':'2020-03-31']"
   ]
  },
  {
   "cell_type": "code",
   "execution_count": null,
   "metadata": {},
   "outputs": [],
   "source": [
    "temp_over_time.head()"
   ]
  },
  {
   "cell_type": "code",
   "execution_count": null,
   "metadata": {},
   "outputs": [],
   "source": [
    "len(temp_over_time)"
   ]
  },
  {
   "cell_type": "code",
   "execution_count": null,
   "metadata": {},
   "outputs": [],
   "source": [
    "tralib.write_df_to_mongo_as_json(\"temp_over_time\", temp_over_time)"
   ]
  },
  {
   "cell_type": "markdown",
   "metadata": {},
   "source": [
    "# Average Rain Percentage by Month"
   ]
  },
  {
   "cell_type": "code",
   "execution_count": null,
   "metadata": {},
   "outputs": [],
   "source": [
    "rain_brokenDate_df = atl_weather_df[[\"percentage_rain\",\"year\", \"month\"]]"
   ]
  },
  {
   "cell_type": "code",
   "execution_count": null,
   "metadata": {},
   "outputs": [],
   "source": [
    "rain_brokenDate_df = rain_brokenDate_df.groupby([\"year\", \"month\"]).mean().reset_index()\n",
    "rain_brokenDate_df.head()"
   ]
  },
  {
   "cell_type": "code",
   "execution_count": null,
   "metadata": {},
   "outputs": [],
   "source": [
    "rain_brokenDate_df[\"day\"] = 1"
   ]
  },
  {
   "cell_type": "code",
   "execution_count": null,
   "metadata": {},
   "outputs": [],
   "source": [
    "rain_brokenDate_df[\"date\"] = pd.to_datetime(rain_brokenDate_df[['year', 'month', 'day']])"
   ]
  },
  {
   "cell_type": "code",
   "execution_count": null,
   "metadata": {},
   "outputs": [],
   "source": [
    "rain_over_time_df = rain_brokenDate_df[[\"date\",\"percentage_rain\"]]\n",
    "rain_over_time_df  = rain_over_time_df.set_index(\"date\")"
   ]
  },
  {
   "cell_type": "code",
   "execution_count": null,
   "metadata": {},
   "outputs": [],
   "source": [
    "rain_over_time = rain_over_time_df.loc['2009-01-01':'2020-03-31']"
   ]
  },
  {
   "cell_type": "code",
   "execution_count": null,
   "metadata": {},
   "outputs": [],
   "source": [
    "rain_over_time.head()"
   ]
  },
  {
   "cell_type": "code",
   "execution_count": null,
   "metadata": {},
   "outputs": [],
   "source": [
    "len(rain_over_time)"
   ]
  },
  {
   "cell_type": "code",
   "execution_count": null,
   "metadata": {},
   "outputs": [],
   "source": [
    "tralib.write_df_to_mongo_as_json(\"rain_over_time\", rain_over_time)"
   ]
  },
  {
   "cell_type": "markdown",
   "metadata": {},
   "source": [
    "# Average Cloud level by month"
   ]
  },
  {
   "cell_type": "code",
   "execution_count": null,
   "metadata": {},
   "outputs": [],
   "source": [
    "cloud_brokenDate_df = atl_weather_df[[\"cloud_percentage\",\"year\", \"month\"]]"
   ]
  },
  {
   "cell_type": "code",
   "execution_count": null,
   "metadata": {},
   "outputs": [],
   "source": [
    "cloud_brokenDate_df = cloud_brokenDate_df.groupby([\"year\", \"month\"]).mean().reset_index()\n",
    "cloud_brokenDate_df.head()"
   ]
  },
  {
   "cell_type": "code",
   "execution_count": null,
   "metadata": {},
   "outputs": [],
   "source": [
    "cloud_brokenDate_df[\"day\"] = 1"
   ]
  },
  {
   "cell_type": "code",
   "execution_count": null,
   "metadata": {},
   "outputs": [],
   "source": [
    "cloud_brokenDate_df[\"date\"] = pd.to_datetime(cloud_brokenDate_df[['year', 'month', 'day']])"
   ]
  },
  {
   "cell_type": "code",
   "execution_count": null,
   "metadata": {},
   "outputs": [],
   "source": [
    "cloud_over_time_df = cloud_brokenDate_df[[\"date\",\"cloud_percentage\"]]\n",
    "cloud_over_time_df  = cloud_over_time_df.set_index(\"date\")"
   ]
  },
  {
   "cell_type": "code",
   "execution_count": null,
   "metadata": {},
   "outputs": [],
   "source": [
    "cloud_over_time = cloud_over_time_df.loc['2009-01-01':'2020-03-31']"
   ]
  },
  {
   "cell_type": "code",
   "execution_count": null,
   "metadata": {},
   "outputs": [],
   "source": [
    "cloud_over_time.head()"
   ]
  },
  {
   "cell_type": "code",
   "execution_count": null,
   "metadata": {},
   "outputs": [],
   "source": [
    "len(cloud_over_time)"
   ]
  },
  {
   "cell_type": "code",
   "execution_count": null,
   "metadata": {},
   "outputs": [],
   "source": [
    "tralib.write_df_to_mongo_as_json(\"cloud_over_time\", cloud_over_time)"
   ]
  },
  {
   "cell_type": "markdown",
   "metadata": {},
   "source": [
    "# Personal Crimes by Month"
   ]
  },
  {
   "cell_type": "code",
   "execution_count": null,
   "metadata": {},
   "outputs": [],
   "source": [
    "crime_person_time_df.head()"
   ]
  },
  {
   "cell_type": "code",
   "execution_count": null,
   "metadata": {},
   "outputs": [],
   "source": [
    "crime_person_time_df[\"day\"] = 1"
   ]
  },
  {
   "cell_type": "code",
   "execution_count": null,
   "metadata": {},
   "outputs": [],
   "source": [
    "crime_person_time_df[\"date\"] = pd.to_datetime(crime_person_time_df[['year', 'month', 'day']])"
   ]
  },
  {
   "cell_type": "code",
   "execution_count": null,
   "metadata": {},
   "outputs": [],
   "source": [
    "personal_crime_df = crime_person_time_df[[\"date\",\"person_crime\"]]\n",
    "personal_crime_df  = personal_crime_df.set_index(\"date\")"
   ]
  },
  {
   "cell_type": "code",
   "execution_count": null,
   "metadata": {},
   "outputs": [],
   "source": [
    "personal_crime_over_time = personal_crime_df.loc['2009-01-01':'2020-03-31']"
   ]
  },
  {
   "cell_type": "code",
   "execution_count": null,
   "metadata": {},
   "outputs": [],
   "source": [
    "personal_crime_over_time.head()"
   ]
  },
  {
   "cell_type": "code",
   "execution_count": null,
   "metadata": {},
   "outputs": [],
   "source": [
    "len(personal_crime_over_time)"
   ]
  },
  {
   "cell_type": "code",
   "execution_count": null,
   "metadata": {},
   "outputs": [],
   "source": [
    "tralib.write_df_to_mongo_as_json(\"personal_crime_over_time\", personal_crime_over_time)"
   ]
  },
  {
   "cell_type": "markdown",
   "metadata": {},
   "source": [
    "# All Crime by Month"
   ]
  },
  {
   "cell_type": "code",
   "execution_count": null,
   "metadata": {},
   "outputs": [],
   "source": [
    "all_crime_df = crime_df[[\"crime_type\",\"year\", \"month\"]]\n",
    "all_crime_df.head()"
   ]
  },
  {
   "cell_type": "code",
   "execution_count": null,
   "metadata": {},
   "outputs": [],
   "source": [
    "all_crime_time_df = all_crime_df.groupby([\"year\", \"month\"]).count().reset_index()\n",
    "all_crime_time_df.head()"
   ]
  },
  {
   "cell_type": "code",
   "execution_count": null,
   "metadata": {},
   "outputs": [],
   "source": [
    "all_crime_time_df[\"day\"] = 1"
   ]
  },
  {
   "cell_type": "code",
   "execution_count": null,
   "metadata": {},
   "outputs": [],
   "source": [
    "all_crime_time_df[\"date\"] = pd.to_datetime(all_crime_time_df[['year', 'month', 'day']])"
   ]
  },
  {
   "cell_type": "code",
   "execution_count": null,
   "metadata": {},
   "outputs": [],
   "source": [
    "all_crime_df = all_crime_time_df[[\"date\",\"crime_type\"]]\n",
    "all_crime_df  = all_crime_df.set_index(\"date\")"
   ]
  },
  {
   "cell_type": "code",
   "execution_count": null,
   "metadata": {},
   "outputs": [],
   "source": [
    "all_crime_over_time = all_crime_df.loc['2009-01-01':'2020-03-31']"
   ]
  },
  {
   "cell_type": "code",
   "execution_count": null,
   "metadata": {},
   "outputs": [],
   "source": [
    "all_crime_over_time.head()"
   ]
  },
  {
   "cell_type": "code",
   "execution_count": null,
   "metadata": {},
   "outputs": [],
   "source": [
    "len(all_crime_over_time)"
   ]
  },
  {
   "cell_type": "code",
   "execution_count": null,
   "metadata": {},
   "outputs": [],
   "source": [
    "tralib.write_df_to_mongo_as_json(\"all_crime_over_time\", all_crime_over_time)"
   ]
  },
  {
   "cell_type": "code",
   "execution_count": null,
   "metadata": {},
   "outputs": [],
   "source": []
  },
  {
   "cell_type": "markdown",
   "metadata": {},
   "source": [
    "# Join Crime and Weather"
   ]
  },
  {
   "cell_type": "code",
   "execution_count": null,
   "metadata": {},
   "outputs": [],
   "source": [
    "personCrime_temp_df = pd.merge(crime_person_time_df,real_feel_TimeGroup_df, how = 'inner', on = ['year','month'])"
   ]
  },
  {
   "cell_type": "code",
   "execution_count": null,
   "metadata": {},
   "outputs": [],
   "source": [
    "personCrime_temp_df[\"day\"] = 1"
   ]
  },
  {
   "cell_type": "code",
   "execution_count": null,
   "metadata": {},
   "outputs": [],
   "source": [
    "personCrime_temp_df[\"date\"] = pd.to_datetime(personCrime_temp_df[['year', 'month', 'day']])"
   ]
  },
  {
   "cell_type": "code",
   "execution_count": null,
   "metadata": {},
   "outputs": [],
   "source": [
    "org_crime_temp_df = personCrime_temp_df[[\"date\",\"person_crime\",\"feels_like\"]]\n",
    "org_crime_temp_df = org_crime_temp_df.set_index(\"date\")"
   ]
  },
  {
   "cell_type": "code",
   "execution_count": null,
   "metadata": {},
   "outputs": [],
   "source": [
    "# write to mongo\n",
    "import tra_functions as tralib\n",
    "tralib.write_df_to_mongo_as_json(\"Ethan_Crime_Weather_Exploration\", org_crime_temp_df)"
   ]
  },
  {
   "cell_type": "code",
   "execution_count": null,
   "metadata": {},
   "outputs": [],
   "source": [
    "fig, ax1 = plt.subplots()\n",
    "\n",
    "color = 'tab:red'\n",
    "ax1.set_xlabel('Date')\n",
    "ax1.set_ylabel('Count Crimes', color=color)\n",
    "ax1.plot(org_crime_temp_df.index, org_crime_temp_df.person_crime, color=color)\n",
    "ax1.tick_params(axis='y', labelcolor=color)\n",
    "\n",
    "ax2 = ax1.twinx()  # instantiate a second axes that shares the same x-axis\n",
    "\n",
    "color = 'tab:blue'\n",
    "ax2.set_ylabel('Real Feel', color=color)  # we already handled the x-label with ax1\n",
    "ax2.plot(org_crime_temp_df.index, org_crime_temp_df.feels_like, color=color)\n",
    "ax2.tick_params(axis='y', labelcolor=color)\n",
    "\n",
    "fig.tight_layout()  # otherwise the right y-label is slightly clipped\n",
    "plt.show()"
   ]
  },
  {
   "cell_type": "code",
   "execution_count": null,
   "metadata": {},
   "outputs": [],
   "source": []
  },
  {
   "cell_type": "code",
   "execution_count": null,
   "metadata": {},
   "outputs": [],
   "source": []
  }
 ],
 "metadata": {
  "kernelspec": {
   "display_name": "Python 3",
   "language": "python",
   "name": "python3"
  },
  "language_info": {
   "codemirror_mode": {
    "name": "ipython",
    "version": 3
   },
   "file_extension": ".py",
   "mimetype": "text/x-python",
   "name": "python",
   "nbconvert_exporter": "python",
   "pygments_lexer": "ipython3",
   "version": "3.7.4"
  }
 },
 "nbformat": 4,
 "nbformat_minor": 2
}
