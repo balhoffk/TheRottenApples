{
 "cells": [
  {
   "cell_type": "code",
   "execution_count": 1,
   "metadata": {},
   "outputs": [],
   "source": [
    "import sys\n",
    "sys.path.append(\"..\")\n",
    "from config import aws_key, aws_secret\n",
    "from config import mongo_username, mongo_password, mongo_server_name\n",
    "from config import postgres_server_name, postgres_database, postgres_username, postgres_port, postgres_password"
   ]
  },
  {
   "cell_type": "code",
   "execution_count": 2,
   "metadata": {},
   "outputs": [],
   "source": [
    "from sqlalchemy import create_engine\n",
    "from sqlalchemy.ext.declarative import declarative_base\n",
    "from sqlalchemy import Column, Integer, String, Float\n",
    "from sqlalchemy.orm import Session"
   ]
  },
  {
   "cell_type": "code",
   "execution_count": 3,
   "metadata": {},
   "outputs": [],
   "source": [
    "import pandas as pd"
   ]
  },
  {
   "cell_type": "code",
   "execution_count": 4,
   "metadata": {},
   "outputs": [],
   "source": [
    "db_url = f\"postgres://{postgres_username}:{postgres_password}@{postgres_server_name}:{postgres_port}/{postgres_database}\"\n",
    "engine = create_engine(db_url)\n",
    "conn = engine.connect()\n",
    "session = Session(bind=engine)"
   ]
  },
  {
   "cell_type": "code",
   "execution_count": 5,
   "metadata": {},
   "outputs": [
    {
     "name": "stdout",
     "output_type": "stream",
     "text": [
      "['hist_weather', 'all_crime']\n"
     ]
    }
   ],
   "source": [
    "print(engine.table_names())"
   ]
  },
  {
   "cell_type": "code",
   "execution_count": 6,
   "metadata": {},
   "outputs": [
    {
     "data": {
      "text/html": [
       "<div>\n",
       "<style scoped>\n",
       "    .dataframe tbody tr th:only-of-type {\n",
       "        vertical-align: middle;\n",
       "    }\n",
       "\n",
       "    .dataframe tbody tr th {\n",
       "        vertical-align: top;\n",
       "    }\n",
       "\n",
       "    .dataframe thead th {\n",
       "        text-align: right;\n",
       "    }\n",
       "</style>\n",
       "<table border=\"1\" class=\"dataframe\">\n",
       "  <thead>\n",
       "    <tr style=\"text-align: right;\">\n",
       "      <th></th>\n",
       "      <th>Index</th>\n",
       "      <th>crime_type</th>\n",
       "      <th>report_date</th>\n",
       "      <th>Beat</th>\n",
       "      <th>Neigborhood</th>\n",
       "      <th>NPU</th>\n",
       "      <th>lat</th>\n",
       "      <th>lon</th>\n",
       "    </tr>\n",
       "  </thead>\n",
       "  <tbody>\n",
       "    <tr>\n",
       "      <td>0</td>\n",
       "      <td>0</td>\n",
       "      <td>LARCENY-NON VEHICLE</td>\n",
       "      <td>02/28/2009</td>\n",
       "      <td>301</td>\n",
       "      <td>Adair Park</td>\n",
       "      <td>V</td>\n",
       "      <td>33.72710</td>\n",
       "      <td>-84.41360</td>\n",
       "    </tr>\n",
       "    <tr>\n",
       "      <td>1</td>\n",
       "      <td>1</td>\n",
       "      <td>LARCENY-NON VEHICLE</td>\n",
       "      <td>02/28/2009</td>\n",
       "      <td>509</td>\n",
       "      <td>Downtown</td>\n",
       "      <td>M</td>\n",
       "      <td>33.76158</td>\n",
       "      <td>-84.38496</td>\n",
       "    </tr>\n",
       "    <tr>\n",
       "      <td>2</td>\n",
       "      <td>2</td>\n",
       "      <td>LARCENY-NON VEHICLE</td>\n",
       "      <td>02/28/2009</td>\n",
       "      <td>210</td>\n",
       "      <td>Lenox</td>\n",
       "      <td>B</td>\n",
       "      <td>33.84676</td>\n",
       "      <td>-84.36212</td>\n",
       "    </tr>\n",
       "    <tr>\n",
       "      <td>3</td>\n",
       "      <td>3</td>\n",
       "      <td>LARCENY-NON VEHICLE</td>\n",
       "      <td>02/28/2009</td>\n",
       "      <td>204</td>\n",
       "      <td>Berkeley Park</td>\n",
       "      <td>D</td>\n",
       "      <td>33.80448</td>\n",
       "      <td>-84.41348</td>\n",
       "    </tr>\n",
       "    <tr>\n",
       "      <td>4</td>\n",
       "      <td>4</td>\n",
       "      <td>LARCENY-NON VEHICLE</td>\n",
       "      <td>02/28/2009</td>\n",
       "      <td>609</td>\n",
       "      <td>Edgewood</td>\n",
       "      <td>O</td>\n",
       "      <td>33.75674</td>\n",
       "      <td>-84.34619</td>\n",
       "    </tr>\n",
       "  </tbody>\n",
       "</table>\n",
       "</div>"
      ],
      "text/plain": [
       "   Index           crime_type report_date Beat    Neigborhood NPU       lat  \\\n",
       "0      0  LARCENY-NON VEHICLE  02/28/2009  301     Adair Park   V  33.72710   \n",
       "1      1  LARCENY-NON VEHICLE  02/28/2009  509       Downtown   M  33.76158   \n",
       "2      2  LARCENY-NON VEHICLE  02/28/2009  210          Lenox   B  33.84676   \n",
       "3      3  LARCENY-NON VEHICLE  02/28/2009  204  Berkeley Park   D  33.80448   \n",
       "4      4  LARCENY-NON VEHICLE  02/28/2009  609       Edgewood   O  33.75674   \n",
       "\n",
       "        lon  \n",
       "0 -84.41360  \n",
       "1 -84.38496  \n",
       "2 -84.36212  \n",
       "3 -84.41348  \n",
       "4 -84.34619  "
      ]
     },
     "execution_count": 6,
     "metadata": {},
     "output_type": "execute_result"
    }
   ],
   "source": [
    "query = session.query(' * from all_crime')\n",
    "df = pd.read_sql(query.statement, engine)\n",
    "df.head()"
   ]
  },
  {
   "cell_type": "code",
   "execution_count": null,
   "metadata": {},
   "outputs": [],
   "source": [
    "query = session.query(' * from hist_weather')\n",
    "df = pd.read_sql(query.statement, engine)\n",
    "df.head()"
   ]
  }
 ],
 "metadata": {
  "kernelspec": {
   "display_name": "Python 3",
   "language": "python",
   "name": "python3"
  },
  "language_info": {
   "codemirror_mode": {
    "name": "ipython",
    "version": 3
   },
   "file_extension": ".py",
   "mimetype": "text/x-python",
   "name": "python",
   "nbconvert_exporter": "python",
   "pygments_lexer": "ipython3",
   "version": "3.7.4"
  }
 },
 "nbformat": 4,
 "nbformat_minor": 2
}
