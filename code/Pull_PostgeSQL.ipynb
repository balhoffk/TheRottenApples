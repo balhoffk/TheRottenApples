{
 "cells": [
  {
   "cell_type": "code",
   "execution_count": 1,
   "metadata": {},
   "outputs": [],
   "source": [
    "import pandas as pd\n",
    "from sqlalchemy import create_engine\n",
    "from config import postgres_server_name, postgres_database, postgres_username, postgres_port, postgres_password\n"
   ]
  },
  {
   "cell_type": "code",
   "execution_count": 2,
   "metadata": {},
   "outputs": [],
   "source": [
    "DATABASES = {\n",
    "    'production':{\n",
    "        'NAME': postgres_database,\n",
    "        'USER': postgres_username,\n",
    "        'PASSWORD': postgres_password,\n",
    "        'HOST': postgres_server_name,\n",
    "        'PORT': postgres_port,\n",
    "    },\n",
    "}\n",
    "\n"
   ]
  },
  {
   "cell_type": "code",
   "execution_count": 3,
   "metadata": {},
   "outputs": [],
   "source": [
    "db = DATABASES['production']"
   ]
  },
  {
   "cell_type": "code",
   "execution_count": 4,
   "metadata": {},
   "outputs": [],
   "source": [
    "engine_string = \"postgresql+psycopg2://{user}:{password}@{host}:{port}/{database}\".format(\n",
    "    user = db['USER'],\n",
    "    password = db['PASSWORD'],\n",
    "    host = db['HOST'],\n",
    "    port = db['PORT'],\n",
    "    database = db['NAME'],\n",
    ")"
   ]
  },
  {
   "cell_type": "code",
   "execution_count": 5,
   "metadata": {},
   "outputs": [],
   "source": [
    "engine = create_engine(engine_string)"
   ]
  },
  {
   "cell_type": "code",
   "execution_count": 6,
   "metadata": {},
   "outputs": [],
   "source": [
    "df = pd.read_sql_table('hist_weather',engine)"
   ]
  },
  {
   "cell_type": "code",
   "execution_count": 47,
   "metadata": {},
   "outputs": [
    {
     "name": "stdout",
     "output_type": "stream",
     "text": [
      "{'NAME': 'd6hi5on1mbqdke', 'USER': 'revuxevvjssnlm', 'PASSWORD': '058424dfd24e5f08652d244d6dbc5fdf286c6b22b9bc825406352c44623985ef', 'HOST': 'ec2-52-70-15-120.compute-1.amazonaws.com', 'PORT': '5432'}\n"
     ]
    }
   ],
   "source": [
    "print(db)"
   ]
  },
  {
   "cell_type": "code",
   "execution_count": 7,
   "metadata": {},
   "outputs": [
    {
     "data": {
      "text/html": [
       "<div>\n",
       "<style scoped>\n",
       "    .dataframe tbody tr th:only-of-type {\n",
       "        vertical-align: middle;\n",
       "    }\n",
       "\n",
       "    .dataframe tbody tr th {\n",
       "        vertical-align: top;\n",
       "    }\n",
       "\n",
       "    .dataframe thead th {\n",
       "        text-align: right;\n",
       "    }\n",
       "</style>\n",
       "<table border=\"1\" class=\"dataframe\">\n",
       "  <thead>\n",
       "    <tr style=\"text-align: right;\">\n",
       "      <th></th>\n",
       "      <th>id</th>\n",
       "      <th>date</th>\n",
       "      <th>date_iso</th>\n",
       "      <th>weather_id</th>\n",
       "      <th>weather_group</th>\n",
       "      <th>weather</th>\n",
       "      <th>weather_icon</th>\n",
       "      <th>temperature</th>\n",
       "      <th>temp_min</th>\n",
       "      <th>temp_max</th>\n",
       "      <th>feels_like</th>\n",
       "      <th>pressure</th>\n",
       "      <th>humidity</th>\n",
       "      <th>wind_speed</th>\n",
       "      <th>cloud_percentage</th>\n",
       "      <th>date_simple</th>\n",
       "    </tr>\n",
       "  </thead>\n",
       "  <tbody>\n",
       "    <tr>\n",
       "      <td>0</td>\n",
       "      <td>0</td>\n",
       "      <td>1230768000</td>\n",
       "      <td>2009-01-01 00:00:00 +0000 UTC</td>\n",
       "      <td>800</td>\n",
       "      <td>Clear</td>\n",
       "      <td>sky is clear</td>\n",
       "      <td>01n</td>\n",
       "      <td>39.78</td>\n",
       "      <td>39.20</td>\n",
       "      <td>41.12</td>\n",
       "      <td>25.48</td>\n",
       "      <td>1023</td>\n",
       "      <td>40</td>\n",
       "      <td>16.11</td>\n",
       "      <td>1</td>\n",
       "      <td>1/1/09</td>\n",
       "    </tr>\n",
       "    <tr>\n",
       "      <td>1</td>\n",
       "      <td>1</td>\n",
       "      <td>1230771600</td>\n",
       "      <td>2009-01-01 01:00:00 +0000 UTC</td>\n",
       "      <td>800</td>\n",
       "      <td>Clear</td>\n",
       "      <td>sky is clear</td>\n",
       "      <td>01n</td>\n",
       "      <td>39.02</td>\n",
       "      <td>37.40</td>\n",
       "      <td>41.49</td>\n",
       "      <td>30.45</td>\n",
       "      <td>1024</td>\n",
       "      <td>40</td>\n",
       "      <td>5.82</td>\n",
       "      <td>1</td>\n",
       "      <td>1/1/09</td>\n",
       "    </tr>\n",
       "    <tr>\n",
       "      <td>2</td>\n",
       "      <td>2</td>\n",
       "      <td>1230775200</td>\n",
       "      <td>2009-01-01 02:00:00 +0000 UTC</td>\n",
       "      <td>800</td>\n",
       "      <td>Clear</td>\n",
       "      <td>sky is clear</td>\n",
       "      <td>01n</td>\n",
       "      <td>37.81</td>\n",
       "      <td>37.04</td>\n",
       "      <td>40.35</td>\n",
       "      <td>28.63</td>\n",
       "      <td>1025</td>\n",
       "      <td>42</td>\n",
       "      <td>6.93</td>\n",
       "      <td>1</td>\n",
       "      <td>1/1/09</td>\n",
       "    </tr>\n",
       "    <tr>\n",
       "      <td>3</td>\n",
       "      <td>3</td>\n",
       "      <td>1230778800</td>\n",
       "      <td>2009-01-01 03:00:00 +0000 UTC</td>\n",
       "      <td>800</td>\n",
       "      <td>Clear</td>\n",
       "      <td>sky is clear</td>\n",
       "      <td>01n</td>\n",
       "      <td>35.82</td>\n",
       "      <td>35.55</td>\n",
       "      <td>35.96</td>\n",
       "      <td>27.25</td>\n",
       "      <td>1025</td>\n",
       "      <td>45</td>\n",
       "      <td>5.82</td>\n",
       "      <td>1</td>\n",
       "      <td>1/1/09</td>\n",
       "    </tr>\n",
       "    <tr>\n",
       "      <td>4</td>\n",
       "      <td>4</td>\n",
       "      <td>1230782400</td>\n",
       "      <td>2009-01-01 04:00:00 +0000 UTC</td>\n",
       "      <td>800</td>\n",
       "      <td>Clear</td>\n",
       "      <td>sky is clear</td>\n",
       "      <td>01n</td>\n",
       "      <td>34.59</td>\n",
       "      <td>33.80</td>\n",
       "      <td>35.52</td>\n",
       "      <td>27.39</td>\n",
       "      <td>1025</td>\n",
       "      <td>47</td>\n",
       "      <td>3.36</td>\n",
       "      <td>1</td>\n",
       "      <td>1/1/09</td>\n",
       "    </tr>\n",
       "  </tbody>\n",
       "</table>\n",
       "</div>"
      ],
      "text/plain": [
       "   id        date                       date_iso weather_id weather_group  \\\n",
       "0   0  1230768000  2009-01-01 00:00:00 +0000 UTC        800         Clear   \n",
       "1   1  1230771600  2009-01-01 01:00:00 +0000 UTC        800         Clear   \n",
       "2   2  1230775200  2009-01-01 02:00:00 +0000 UTC        800         Clear   \n",
       "3   3  1230778800  2009-01-01 03:00:00 +0000 UTC        800         Clear   \n",
       "4   4  1230782400  2009-01-01 04:00:00 +0000 UTC        800         Clear   \n",
       "\n",
       "        weather weather_icon  temperature  temp_min  temp_max  feels_like  \\\n",
       "0  sky is clear          01n        39.78     39.20     41.12       25.48   \n",
       "1  sky is clear          01n        39.02     37.40     41.49       30.45   \n",
       "2  sky is clear          01n        37.81     37.04     40.35       28.63   \n",
       "3  sky is clear          01n        35.82     35.55     35.96       27.25   \n",
       "4  sky is clear          01n        34.59     33.80     35.52       27.39   \n",
       "\n",
       "   pressure  humidity  wind_speed  cloud_percentage date_simple  \n",
       "0      1023        40       16.11                 1      1/1/09  \n",
       "1      1024        40        5.82                 1      1/1/09  \n",
       "2      1025        42        6.93                 1      1/1/09  \n",
       "3      1025        45        5.82                 1      1/1/09  \n",
       "4      1025        47        3.36                 1      1/1/09  "
      ]
     },
     "execution_count": 7,
     "metadata": {},
     "output_type": "execute_result"
    }
   ],
   "source": [
    "df.head()"
   ]
  },
  {
   "cell_type": "code",
   "execution_count": null,
   "metadata": {},
   "outputs": [],
   "source": []
  }
 ],
 "metadata": {
  "kernelspec": {
   "display_name": "Python 3",
   "language": "python",
   "name": "python3"
  },
  "language_info": {
   "codemirror_mode": {
    "name": "ipython",
    "version": 3
   },
   "file_extension": ".py",
   "mimetype": "text/x-python",
   "name": "python",
   "nbconvert_exporter": "python",
   "pygments_lexer": "ipython3",
   "version": "3.7.4"
  }
 },
 "nbformat": 4,
 "nbformat_minor": 2
}
